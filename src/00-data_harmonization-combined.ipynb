{
 "cells": [
  {
   "cell_type": "markdown",
   "id": "4decd5f3",
   "metadata": {},
   "source": [
    "ComBatBatch Harmonization\n",
    "- data: The expression matrix as a dataframe. It contains the information about the gene expression (rows) for each sample (columns).\n",
    "- batch: List of batch indexes. The batch list describes the batch for each sample. The list of batches contains as many elements as the number of columns in the expression matrix.\n",
    "\n",
    "Source: https://blog.4dcu.be/programming/2021/04/21/Code-Nugget-Batch_Effects.html"
   ]
  },
  {
   "cell_type": "code",
   "execution_count": null,
   "id": "1dff4d90",
   "metadata": {},
   "outputs": [],
   "source": [
    "import pandas as pd\n",
    "from combat.pycombat import pycombat\n",
    "import numpy as np\n",
    "import seaborn as sns\n",
    "import matplotlib.pyplot as plt"
   ]
  },
  {
   "cell_type": "code",
   "execution_count": null,
   "id": "342a6754",
   "metadata": {},
   "outputs": [],
   "source": [
    "combined_internal = pd.read_csv(\"../../data/normalized/combined.csv\", sep= \"\\t\", index_col=0)\n",
    "combined_external = pd.read_csv(\"../../data/normalized/combined_ext.csv\", sep= \"\\t\", index_col=0)\n",
    "scanner_internal = pd.read_excel(\"../../data/initial/T1/scanner_type_T1.xlsx\", sheet_name='scanner_type_T1', engine='openpyxl')\n",
    "scanner_external = pd.read_excel(\"../../data/initial/T1/scanner_type_T1_ext.xlsx\", sheet_name='scanner_type_T1_ext', engine='openpyxl')"
   ]
  },
  {
   "cell_type": "code",
   "execution_count": null,
   "id": "9453cca4",
   "metadata": {},
   "outputs": [],
   "source": [
    "scanner_internal.drop(scanner_internal.columns[1], axis=1, inplace=True)\n",
    "scanner_internal['ID_intern'] = scanner_internal['ID_intern'].str.slice(53, 61)\n",
    "scanner_internal['ID_intern'].replace(\"_se\", \"\", regex=True, inplace=True)\n",
    "# scanner_internal"
   ]
  },
  {
   "cell_type": "code",
   "execution_count": null,
   "id": "db3904b0",
   "metadata": {},
   "outputs": [],
   "source": [
    "scanner_external.drop(scanner_external.columns[1], axis=1, inplace=True)\n",
    "scanner_external['ID_intern'] = scanner_external['ID_intern'].str.slice(68, 71)\n",
    "scanner_external['ID_intern'].replace(\"_T\", \"\", regex=True, inplace=True)\n",
    "scanner_external['ID_intern'].replace(\"_t\", \"\", regex=True, inplace=True)\n",
    "scanner_external['ID_intern'].replace(\"_\", \"\", regex=True, inplace=True)\n",
    "# scanner_external"
   ]
  },
  {
   "cell_type": "code",
   "execution_count": null,
   "id": "90e99e70",
   "metadata": {},
   "outputs": [],
   "source": [
    "combined_internal = scanner_internal.join(combined_internal.set_index('ID_intern'), on='ID_intern', how='inner')\n",
    "combined_internal"
   ]
  },
  {
   "cell_type": "code",
   "execution_count": null,
   "id": "8a864785",
   "metadata": {},
   "outputs": [],
   "source": [
    "combined_external = scanner_external.join(combined_external.set_index('ID_intern'), on='ID_intern', how='inner')\n",
    "combined_external"
   ]
  },
  {
   "cell_type": "code",
   "execution_count": null,
   "id": "7e05fbac",
   "metadata": {},
   "outputs": [],
   "source": [
    "frames = [combined_internal, combined_external]\n",
    "data = pd.concat(frames)"
   ]
  },
  {
   "cell_type": "code",
   "execution_count": null,
   "id": "405efb74",
   "metadata": {},
   "outputs": [],
   "source": [
    "data"
   ]
  },
  {
   "cell_type": "code",
   "execution_count": null,
   "id": "5811340a",
   "metadata": {
    "scrolled": false
   },
   "outputs": [],
   "source": [
    "data_corrected = pycombat(data.drop(columns=[\"ID_intern\", \"Scanner\"]).transpose(), data[\"Scanner\"], mean_only=True).transpose()"
   ]
  },
  {
   "cell_type": "code",
   "execution_count": null,
   "id": "0e021f77",
   "metadata": {},
   "outputs": [],
   "source": [
    "data_corrected.head(60)"
   ]
  },
  {
   "cell_type": "code",
   "execution_count": null,
   "id": "9e4369e1",
   "metadata": {},
   "outputs": [],
   "source": [
    "data = data.drop(\"ID_intern\", axis=1)"
   ]
  },
  {
   "cell_type": "code",
   "execution_count": null,
   "id": "ba7d6528",
   "metadata": {},
   "outputs": [],
   "source": [
    "# long_df = data.melt(id_vars=[\"Scanner\"])"
   ]
  },
  {
   "cell_type": "markdown",
   "id": "322b7877",
   "metadata": {},
   "source": [
    "Visualizing the data changes"
   ]
  },
  {
   "cell_type": "code",
   "execution_count": null,
   "id": "b60d0c5a",
   "metadata": {
    "scrolled": true
   },
   "outputs": [],
   "source": [
    "# long_corrected_df = data_corrected.melt()\n",
    "# merged_df = pd.merge(\n",
    "#     long_df,\n",
    "#     long_corrected_df,\n",
    "#     left_index=True,\n",
    "#     right_index=True,\n",
    "#     suffixes=(\"_raw\", \"_corrected\"),\n",
    "# )\n",
    "# g = sns.FacetGrid(\n",
    "#     merged_df,\n",
    "#     col=\"variable_raw\",\n",
    "#     height=3,\n",
    "#     aspect=1,\n",
    "#     sharex=False,\n",
    "#     sharey=False,\n",
    "#     col_wrap=3,\n",
    "# )\n",
    "# g.map_dataframe(sns.scatterplot, x=\"value_raw\", y=\"value_corrected\", hue=\"Scanner\")\n",
    "# plt.show()"
   ]
  },
  {
   "cell_type": "markdown",
   "id": "faf37e0c",
   "metadata": {},
   "source": [
    "Here scatterplot is used to compare the original value (x-axis) with the corrected value (y-axis) for values from different batches (color). If no corrections were done all samples would be on the diagonal as their x- and y-values are identical, where corrections are applied there will be a shift."
   ]
  },
  {
   "cell_type": "code",
   "execution_count": null,
   "id": "9658477e",
   "metadata": {},
   "outputs": [],
   "source": [
    "data = pd.concat(frames)\n",
    "headers = [\"ID_intern\"]\n",
    "data_final = [data[\"ID_intern\"]]\n",
    "for c in data_corrected.columns:\n",
    "    data_final.append(data_corrected[c])\n",
    "    headers.append(c)\n",
    "data_harmonized = pd.concat(data_final, axis=1, keys=headers)"
   ]
  },
  {
   "cell_type": "code",
   "execution_count": null,
   "id": "0484e0c3",
   "metadata": {},
   "outputs": [],
   "source": [
    "data_harmonized"
   ]
  },
  {
   "cell_type": "code",
   "execution_count": null,
   "id": "9b37f292",
   "metadata": {},
   "outputs": [],
   "source": [
    "# data_harmonized.to_csv(\"../../data/harmonized/t1_harmonized.csv\", sep='\\t', encoding='utf-8', index=False)"
   ]
  },
  {
   "cell_type": "markdown",
   "id": "4c1b334e",
   "metadata": {},
   "source": [
    "Harmonized data split"
   ]
  },
  {
   "cell_type": "code",
   "execution_count": null,
   "id": "7f10e9fd",
   "metadata": {},
   "outputs": [],
   "source": [
    "data_harmonized['ID_intern'] = data_harmonized['ID_intern'].astype('str') "
   ]
  },
  {
   "cell_type": "code",
   "execution_count": null,
   "id": "0d4ee14a",
   "metadata": {},
   "outputs": [],
   "source": [
    "strings = ['LIPO', 'LT']\n",
    "combined_harmonized = data_harmonized[data_harmonized['ID_intern'].str.contains('|'.join(strings))]\n",
    "\n",
    "combined_harmonized"
   ]
  },
  {
   "cell_type": "code",
   "execution_count": null,
   "id": "641c1f39",
   "metadata": {},
   "outputs": [],
   "source": [
    "combined_harmonized.to_csv(\"../../data/harmonized/combined_harmonized.csv\", sep='\\t', encoding='utf-8', index=False)"
   ]
  },
  {
   "cell_type": "code",
   "execution_count": null,
   "id": "39ec39ff",
   "metadata": {},
   "outputs": [],
   "source": [
    "combined_external_harmonized = data_harmonized[~data_harmonized['ID_intern'].str.contains('|'.join(strings))]\n",
    "\n",
    "combined_external_harmonized"
   ]
  },
  {
   "cell_type": "code",
   "execution_count": null,
   "id": "5e0dfc3b",
   "metadata": {},
   "outputs": [],
   "source": [
    "combined_external_harmonized.to_csv(\"../../data/harmonized/combined_external_harmonized.csv\", sep='\\t', encoding='utf-8', index=False)"
   ]
  },
  {
   "cell_type": "code",
   "execution_count": null,
   "id": "d602ef2e",
   "metadata": {},
   "outputs": [],
   "source": []
  },
  {
   "cell_type": "code",
   "execution_count": null,
   "id": "d939d12b",
   "metadata": {},
   "outputs": [],
   "source": []
  }
 ],
 "metadata": {
  "kernelspec": {
   "display_name": "Python 3",
   "language": "python",
   "name": "python3"
  },
  "language_info": {
   "codemirror_mode": {
    "name": "ipython",
    "version": 3
   },
   "file_extension": ".py",
   "mimetype": "text/x-python",
   "name": "python",
   "nbconvert_exporter": "python",
   "pygments_lexer": "ipython3",
   "version": "3.8.8"
  }
 },
 "nbformat": 4,
 "nbformat_minor": 5
}
