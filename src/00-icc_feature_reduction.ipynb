{
 "cells": [
  {
   "cell_type": "markdown",
   "id": "0bb0d8db",
   "metadata": {},
   "source": [
    "# Segmentation-Dependant Feature Reduction using ICC(3,1)"
   ]
  },
  {
   "cell_type": "markdown",
   "id": "5fbeca22",
   "metadata": {},
   "source": [
    "Sources:\n",
    "1. https://github.com/cosanlab/nltools/blob/master/nltools/data/brain_data.py\n",
    "2. https://www.ncbi.nlm.nih.gov/pmc/articles/PMC4533825/\n",
    "3. https://www.ncbi.nlm.nih.gov/pmc/articles/PMC6838361/\n",
    "4. https://www.statology.org/intraclass-correlation-coefficient-python/"
   ]
  },
  {
   "cell_type": "code",
   "execution_count": null,
   "id": "b736b351",
   "metadata": {},
   "outputs": [],
   "source": [
    "import pandas as pd\n",
    "import numpy as np\n",
    "import pingouin as pg\n",
    "import docx"
   ]
  },
  {
   "cell_type": "code",
   "execution_count": null,
   "id": "36b5a05a",
   "metadata": {},
   "outputs": [],
   "source": [
    "df = pd.read_csv(\"../../data/initial/T1fs/icc_t1fs_output.csv\", sep=\",\", index_col=0)"
   ]
  },
  {
   "cell_type": "code",
   "execution_count": null,
   "id": "e89f5de1",
   "metadata": {},
   "outputs": [],
   "source": [
    "df.drop(df.columns[2:39], axis=1, inplace=True)\n",
    "df['Image'] = df['Image'].str.slice(60, 65)\n",
    "df = df.rename({'Image': 'ID_intern'}, axis=1)"
   ]
  },
  {
   "cell_type": "code",
   "execution_count": null,
   "id": "e0173617",
   "metadata": {},
   "outputs": [],
   "source": [
    "df['Mask'] = [1,1,1,1,1,1,1,1,1,1,2,2,2,2,2,2,2,2,2,2,2,2,2,2,2,2,2,2,2,2,1,1,1,1,1,1,1,1,1,1]\n",
    "df = df.rename({'Mask': 'Judge'}, axis=1)"
   ]
  },
  {
   "cell_type": "code",
   "execution_count": null,
   "id": "4081a044",
   "metadata": {},
   "outputs": [],
   "source": [
    "df = df.sort_values(by=['ID_intern'])\n",
    "df"
   ]
  },
  {
   "cell_type": "code",
   "execution_count": null,
   "id": "84a5caa7",
   "metadata": {},
   "outputs": [],
   "source": [
    "features = list(df.columns[2:])\n",
    "# features"
   ]
  },
  {
   "cell_type": "code",
   "execution_count": null,
   "id": "9146ce51",
   "metadata": {},
   "outputs": [],
   "source": [
    "final_columns = list(df.columns[0:2])\n",
    "# final_columns"
   ]
  },
  {
   "cell_type": "code",
   "execution_count": null,
   "id": "2821db96",
   "metadata": {},
   "outputs": [],
   "source": [
    "dfs = []\n",
    "for feature in features:\n",
    "    icc = pg.intraclass_corr(data=df, targets='ID_intern', raters='Judge', ratings=feature)\n",
    "    icc=icc[2:3]\n",
    "    icc['Feature'] = feature\n",
    "    dfs.append(icc)\n",
    "icc_df = pd.concat(dfs, ignore_index=True)\n",
    "icc_df"
   ]
  },
  {
   "cell_type": "code",
   "execution_count": null,
   "id": "38de3a88",
   "metadata": {},
   "outputs": [],
   "source": [
    "icc_df = icc_df[icc_df['ICC'] < 0.8] # exclude < or 0.8??? 0.8 - 101 cols, <0.9 - 93 cols\n",
    "new_df = icc_df.drop(icc_df.columns[[1,3,4,5,6,7]], axis=1)"
   ]
  },
  {
   "cell_type": "code",
   "execution_count": null,
   "id": "0b600f13",
   "metadata": {},
   "outputs": [],
   "source": [
    "new_df['ICC'] = new_df['ICC'].round(decimals = 2)\n",
    "new_df"
   ]
  },
  {
   "cell_type": "code",
   "execution_count": null,
   "id": "c0f17d79",
   "metadata": {},
   "outputs": [],
   "source": [
    "# open an existing document\n",
    "doc = docx.Document('./tables.docx')\n",
    "\n",
    "# add a table to the end and create a reference variable\n",
    "# extra row is so we can add the header row\n",
    "t = doc.add_table(new_df.shape[0]+1, new_df.shape[1])\n",
    "\n",
    "# add the header rows.\n",
    "for j in range(new_df.shape[-1]):\n",
    "    t.cell(0,j).text = new_df.columns[j]\n",
    "\n",
    "# add the rest of the data frame\n",
    "for i in range(new_df.shape[0]):\n",
    "    for j in range(new_df.shape[-1]):\n",
    "        t.cell(i+1,j).text = str(new_df.values[i,j])\n",
    "\n",
    "# save the doc\n",
    "doc.save('./tables.docx')"
   ]
  },
  {
   "cell_type": "code",
   "execution_count": null,
   "id": "37071ac4",
   "metadata": {},
   "outputs": [],
   "source": [
    "final_columns = final_columns + list(icc_df['Feature'])\n",
    "final_columns"
   ]
  },
  {
   "cell_type": "code",
   "execution_count": null,
   "id": "a7cfe398",
   "metadata": {},
   "outputs": [],
   "source": [
    "df = df[df.columns.intersection(final_columns)]"
   ]
  },
  {
   "cell_type": "code",
   "execution_count": null,
   "id": "f4ddc91f",
   "metadata": {},
   "outputs": [],
   "source": [
    "df"
   ]
  },
  {
   "cell_type": "code",
   "execution_count": null,
   "id": "12ba19c9",
   "metadata": {},
   "outputs": [],
   "source": [
    "# remaining_features = list(icc_df['Feature'])\n",
    "# file = open(\"../../data/initial/T2/t2_features.txt\", \"w\")\n",
    "# for element in remaining_features:\n",
    "#     file.write(element + \"\\n\")\n",
    "# file.close()"
   ]
  },
  {
   "cell_type": "code",
   "execution_count": null,
   "id": "05b49064",
   "metadata": {},
   "outputs": [],
   "source": []
  }
 ],
 "metadata": {
  "kernelspec": {
   "display_name": "Python 3",
   "language": "python",
   "name": "python3"
  },
  "language_info": {
   "codemirror_mode": {
    "name": "ipython",
    "version": 3
   },
   "file_extension": ".py",
   "mimetype": "text/x-python",
   "name": "python",
   "nbconvert_exporter": "python",
   "pygments_lexer": "ipython3",
   "version": "3.8.8"
  }
 },
 "nbformat": 4,
 "nbformat_minor": 5
}
